{
 "cells": [
  {
   "cell_type": "markdown",
   "id": "d4d37fa7",
   "metadata": {},
   "source": [
    "## First time user install wand first"
   ]
  },
  {
   "cell_type": "code",
   "execution_count": 3,
   "id": "755e4fa1",
   "metadata": {},
   "outputs": [],
   "source": [
    "import os\n",
    "from pdf2image import convert_from_path\n",
    "\n",
    "def convert_pdfs_in_folder(input_folder, output_folder):\n",
    "    # Create output folder if it doesn't exist\n",
    "    os.makedirs(output_folder, exist_ok=True)\n",
    "\n",
    "    # Iterate through all PDF files in the input folder\n",
    "    for pdf_file in os.listdir(input_folder):\n",
    "        if pdf_file.endswith(\".pdf\"):\n",
    "            pdf_path = os.path.join(input_folder, pdf_file)\n",
    "            output_png_base = os.path.join(output_folder, os.path.splitext(pdf_file)[0])\n",
    "            \n",
    "            # Check if the corresponding PNG file already exists\n",
    "            output_png_path = f\"{output_png_base}.png\"\n",
    "            if not os.path.exists(output_png_path):\n",
    "                convert_pdf_to_png(pdf_path, output_png_base)\n",
    "\n",
    "def convert_pdf_to_png(pdf_path, output_png_base):\n",
    "    images = convert_from_path(pdf_path, 300)  # Set the desired DPI\n",
    "    for i, image in enumerate(images):\n",
    "        output_png_path = f\"{output_png_base}.png\"\n",
    "        image.save(output_png_path, \"PNG\")\n",
    "\n",
    "# Example usage\n",
    "input_folder = './pdf_figures'\n",
    "output_folder = './png_figures'\n",
    "convert_pdfs_in_folder(input_folder, output_folder)"
   ]
  },
  {
   "cell_type": "code",
   "execution_count": null,
   "id": "4dca8568",
   "metadata": {},
   "outputs": [],
   "source": []
  }
 ],
 "metadata": {
  "kernelspec": {
   "display_name": "Python 3 (ipykernel)",
   "language": "python",
   "name": "python3"
  },
  "language_info": {
   "codemirror_mode": {
    "name": "ipython",
    "version": 3
   },
   "file_extension": ".py",
   "mimetype": "text/x-python",
   "name": "python",
   "nbconvert_exporter": "python",
   "pygments_lexer": "ipython3",
   "version": "3.10.12"
  }
 },
 "nbformat": 4,
 "nbformat_minor": 5
}
